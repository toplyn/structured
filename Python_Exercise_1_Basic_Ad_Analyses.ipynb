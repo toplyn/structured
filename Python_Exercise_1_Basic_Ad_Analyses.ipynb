{
  "nbformat": 4,
  "nbformat_minor": 0,
  "metadata": {
    "colab": {
      "name": "Python Exercise 1 - Basic Ad Analyses",
      "provenance": [],
      "collapsed_sections": [],
      "include_colab_link": true
    },
    "kernelspec": {
      "name": "python3",
      "display_name": "Python 3"
    }
  },
  "cells": [
    {
      "cell_type": "markdown",
      "metadata": {
        "id": "view-in-github",
        "colab_type": "text"
      },
      "source": [
        "<a href=\"https://colab.research.google.com/github/toplyn/structured/blob/master/Python_Exercise_1_Basic_Ad_Analyses.ipynb\" target=\"_parent\"><img src=\"https://colab.research.google.com/assets/colab-badge.svg\" alt=\"Open In Colab\"/></a>"
      ]
    },
    {
      "cell_type": "code",
      "metadata": {
        "id": "L9fzKZhNswOl",
        "colab_type": "code",
        "colab": {}
      },
      "source": [
        "## Import libraries for analysis and linear regression\n",
        "import pandas as pd\n",
        "import time\n",
        "import numpy as np\n",
        "import statsmodels.api as sm\n",
        "import seaborn as sns"
      ],
      "execution_count": 0,
      "outputs": []
    },
    {
      "cell_type": "code",
      "metadata": {
        "id": "f4d6ejpoEFd9",
        "colab_type": "code",
        "outputId": "a240b35c-fc4c-4857-9279-0a33f313a480",
        "colab": {
          "base_uri": "https://localhost:8080/",
          "height": 122
        }
      },
      "source": [
        "## Mount google drive to access data file\n",
        "from google.colab import drive\n",
        "drive.mount('/content/drive')"
      ],
      "execution_count": 0,
      "outputs": [
        {
          "output_type": "stream",
          "text": [
            "Go to this URL in a browser: https://accounts.google.com/o/oauth2/auth?client_id=947318989803-6bn6qk8qdgf4n4g3pfee6491hc0brc4i.apps.googleusercontent.com&redirect_uri=urn%3aietf%3awg%3aoauth%3a2.0%3aoob&response_type=code&scope=email%20https%3a%2f%2fwww.googleapis.com%2fauth%2fdocs.test%20https%3a%2f%2fwww.googleapis.com%2fauth%2fdrive%20https%3a%2f%2fwww.googleapis.com%2fauth%2fdrive.photos.readonly%20https%3a%2f%2fwww.googleapis.com%2fauth%2fpeopleapi.readonly\n",
            "\n",
            "Enter your authorization code:\n",
            "··········\n",
            "Mounted at /content/drive\n"
          ],
          "name": "stdout"
        }
      ]
    },
    {
      "cell_type": "code",
      "metadata": {
        "id": "M_2Bzm59EFkQ",
        "colab_type": "code",
        "colab": {}
      },
      "source": [
        "## Load data from drive\n",
        "final = 'drive/My Drive/Colab Notebooks/Travel Pony Facebook.csv'\n",
        "pony = pd.read_csv(final)"
      ],
      "execution_count": 0,
      "outputs": []
    },
    {
      "cell_type": "code",
      "metadata": {
        "id": "-a6lJb4CbQhX",
        "colab_type": "code",
        "outputId": "2c40fc77-642b-4b58-aa35-34cdc9198a62",
        "colab": {
          "base_uri": "https://localhost:8080/",
          "height": 153
        }
      },
      "source": [
        "## Understand dataset \n",
        "print(pony.head())"
      ],
      "execution_count": 0,
      "outputs": [
        {
          "output_type": "stream",
          "text": [
            "   Start Date  ... Cost per Page Engagement (USD)\n",
            "0  2013-12-02  ...                       1.219512\n",
            "1  2013-12-01  ...                       1.395349\n",
            "2  2013-11-30  ...                       1.190476\n",
            "3  2013-11-29  ...                       1.167315\n",
            "4  2013-11-22  ...                       2.512857\n",
            "\n",
            "[5 rows x 20 columns]\n"
          ],
          "name": "stdout"
        }
      ]
    },
    {
      "cell_type": "code",
      "metadata": {
        "id": "-fwiJ7uXddjZ",
        "colab_type": "code",
        "outputId": "05f574db-7f30-4ba4-c9d8-1be29d738851",
        "colab": {
          "base_uri": "https://localhost:8080/",
          "height": 136
        }
      },
      "source": [
        "pony.columns"
      ],
      "execution_count": 0,
      "outputs": [
        {
          "output_type": "execute_result",
          "data": {
            "text/plain": [
              "Index(['Start Date', 'End Date', 'Account', 'Campaign Name', 'Reach',\n",
              "       'Frequency', 'Impressions', 'Clicks', 'Unique Clicks',\n",
              "       'Amount Spent (USD)', 'Page Likes', 'Page Engagement',\n",
              "       'Post Engagement', 'Post Likes', 'Post Comments', 'Post Shares',\n",
              "       'Photo Views', 'Website Clicks', 'Cost per Page Like (USD)',\n",
              "       'Cost per Page Engagement (USD)'],\n",
              "      dtype='object')"
            ]
          },
          "metadata": {
            "tags": []
          },
          "execution_count": 10
        }
      ]
    },
    {
      "cell_type": "code",
      "metadata": {
        "id": "7B450jPdbTnQ",
        "colab_type": "code",
        "colab": {}
      },
      "source": [
        "## Create 'cost per impression' column\n",
        "pony['cost_per_impression'] = pony['Amount Spent (USD)'] / pony['Impressions']"
      ],
      "execution_count": 0,
      "outputs": []
    },
    {
      "cell_type": "code",
      "metadata": {
        "id": "YYddcED4dQFP",
        "colab_type": "code",
        "colab": {}
      },
      "source": [
        "## Convert date and create day of week \n",
        "pony['date'] = pd.to_datetime(pony['Start Date'])\n",
        "pony['day_of_week'] = pony['date'].dt.day_name()"
      ],
      "execution_count": 0,
      "outputs": []
    },
    {
      "cell_type": "code",
      "metadata": {
        "id": "BB3pz9KdeDoa",
        "colab_type": "code",
        "colab": {}
      },
      "source": [
        "## Pivot data by day of week with means\n",
        "pny_pivot = pony.pivot_table(index = 'day_of_week', aggfunc = 'mean')"
      ],
      "execution_count": 0,
      "outputs": []
    },
    {
      "cell_type": "code",
      "metadata": {
        "id": "kVSnSnClfsoZ",
        "colab_type": "code",
        "colab": {}
      },
      "source": [
        "## Which day of the week has the highest cost per impression\n",
        "pny_pivot['cost_per_impression']"
      ],
      "execution_count": 0,
      "outputs": []
    },
    {
      "cell_type": "code",
      "metadata": {
        "id": "pfue4AZoDnDg",
        "colab_type": "code",
        "outputId": "850ce6e5-26da-4525-867d-345f95ae89de",
        "colab": {
          "base_uri": "https://localhost:8080/",
          "height": 297
        }
      },
      "source": [
        "sns.barplot(x = pony['day_of_week'], y = pony['cost_per_impression'])"
      ],
      "execution_count": 0,
      "outputs": [
        {
          "output_type": "execute_result",
          "data": {
            "text/plain": [
              "<matplotlib.axes._subplots.AxesSubplot at 0x7fa6e031bc50>"
            ]
          },
          "metadata": {
            "tags": []
          },
          "execution_count": 14
        },
        {
          "output_type": "display_data",
          "data": {
            "image/png": "[encoded data removed]",
            "text/plain": [
              "<Figure size 432x288 with 1 Axes>"
            ]
          },
          "metadata": {
            "tags": []
          }
        }
      ]
    },
    {
      "cell_type": "code",
      "metadata": {
        "id": "y2hfGiiwruOh",
        "colab_type": "code",
        "colab": {}
      },
      "source": [
        "## Create correlation analysis\n",
        "pony_corrs = {}\n",
        "dependents = ['Reach','Frequency','Unique Clicks','Page Likes']\n",
        "for i in dependents:\n",
        "  pony_corrs[i] = np.corrcoef(pony['Amount Spent (USD)'], pony[i])[0,1]"
      ],
      "execution_count": 0,
      "outputs": []
    },
    {
      "cell_type": "code",
      "metadata": {
        "id": "j32s01U4s4n-",
        "colab_type": "code",
        "outputId": "b07c6207-5b43-4f1f-f323-622a4bb0e70f",
        "colab": {
          "base_uri": "https://localhost:8080/",
          "height": 85
        }
      },
      "source": [
        "## What is most correlated with spend\n",
        "pony_corrs"
      ],
      "execution_count": 0,
      "outputs": [
        {
          "output_type": "execute_result",
          "data": {
            "text/plain": [
              "{'Frequency': 0.13020086992866314,\n",
              " 'Page Likes': 0.7576119292180449,\n",
              " 'Reach': 0.7031238065113837,\n",
              " 'Unique Clicks': 0.8829931774784122}"
            ]
          },
          "metadata": {
            "tags": []
          },
          "execution_count": 11
        }
      ]
    },
    {
      "cell_type": "code",
      "metadata": {
        "id": "PHinafwTuTRf",
        "colab_type": "code",
        "outputId": "8406dcda-b591-4df4-db71-39a0c4a06bb0",
        "colab": {
          "base_uri": "https://localhost:8080/",
          "height": 476
        }
      },
      "source": [
        "## Create linear regression to analyze what impacts clicks\n",
        "pny_target = pony['Unique Clicks']\n",
        "dependentx = pony[[\"Reach\",\"Frequency\"]]\n",
        "mods = sm.OLS(pny_target, dependentx).fit()\n",
        "print(mods.summary())"
      ],
      "execution_count": 0,
      "outputs": [
        {
          "output_type": "stream",
          "text": [
            "                                 OLS Regression Results                                \n",
            "=======================================================================================\n",
            "Dep. Variable:          Unique Clicks   R-squared (uncentered):                   0.557\n",
            "Model:                            OLS   Adj. R-squared (uncentered):              0.556\n",
            "Method:                 Least Squares   F-statistic:                              2325.\n",
            "Date:                Sun, 10 Nov 2019   Prob (F-statistic):                        0.00\n",
            "Time:                        16:29:37   Log-Likelihood:                         -15973.\n",
            "No. Observations:                3705   AIC:                                  3.195e+04\n",
            "Df Residuals:                    3703   BIC:                                  3.196e+04\n",
            "Df Model:                           2                                                  \n",
            "Covariance Type:            nonrobust                                                  \n",
            "==============================================================================\n",
            "                 coef    std err          t      P>|t|      [0.025      0.975]\n",
            "------------------------------------------------------------------------------\n",
            "Reach          0.0019   3.12e-05     62.490      0.000       0.002       0.002\n",
            "Frequency      3.6139      0.298     12.109      0.000       3.029       4.199\n",
            "==============================================================================\n",
            "Omnibus:                     5107.616   Durbin-Watson:                   0.803\n",
            "Prob(Omnibus):                  0.000   Jarque-Bera (JB):          5128392.747\n",
            "Skew:                           7.331   Prob(JB):                         0.00\n",
            "Kurtosis:                     184.674   Cond. No.                     9.84e+03\n",
            "==============================================================================\n",
            "\n",
            "Warnings:\n",
            "[1] Standard Errors assume that the covariance matrix of the errors is correctly specified.\n",
            "[2] The condition number is large, 9.84e+03. This might indicate that there are\n",
            "strong multicollinearity or other numerical problems.\n"
          ],
          "name": "stdout"
        }
      ]
    },
    {
      "cell_type": "code",
      "metadata": {
        "id": "IKONESEhEkOT",
        "colab_type": "code",
        "colab": {}
      },
      "source": [
        ""
      ],
      "execution_count": 0,
      "outputs": []
    }
  ]
}