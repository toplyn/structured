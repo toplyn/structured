{
  "nbformat": 4,
  "nbformat_minor": 0,
  "metadata": {
    "colab": {
      "name": "Python Exercise 4 - Using CensusReporter to Make Geographic Selections",
      "provenance": [],
      "collapsed_sections": [],
      "include_colab_link": true
    },
    "kernelspec": {
      "name": "python3",
      "display_name": "Python 3"
    }
  },
  "cells": [
    {
      "cell_type": "markdown",
      "metadata": {
        "id": "view-in-github",
        "colab_type": "text"
      },
      "source": [
        "<a href=\"https://colab.research.google.com/github/toplyn/structured/blob/master/Python_Exercise_4_Using_CensusReporter_to_Make_Geographic_Selections.ipynb\" target=\"_parent\"><img src=\"https://colab.research.google.com/assets/colab-badge.svg\" alt=\"Open In Colab\"/></a>"
      ]
    },
    {
      "cell_type": "markdown",
      "metadata": {
        "id": "xNStlWqkMWvz",
        "colab_type": "text"
      },
      "source": [
        "This code analyzes various parameters that may support a hypothetical coffee shop expansion to new markets.  The shop may see the best success with individuals 18-34, with incomes 50k-75k and with higher hispanic populations.  The code hits a census API to pull demographic data for different areas to find potential locations."
      ]
    },
    {
      "cell_type": "markdown",
      "metadata": {
        "id": "kuvp5LWHK4lH",
        "colab_type": "text"
      },
      "source": [
        "**Best Demographics for Organic coffee targeting**\n",
        "- $50k - $75k income\n",
        "- 18 - 34 years\n",
        "- Targeting hispanic populations\n",
        "\n",
        "**Question 1 - Highest income**\n",
        "- \tNew York-Newark-Jersey City, NY-NJ-PA\t\n",
        "\n",
        "**Question 2 - Highest in age range**\n",
        "- \tNew York-Newark-Jersey City, NY-NJ-PA\t\n",
        "\n",
        "**Question 3 - Highest hispanic population**\n",
        "- \tLos Angeles-Long Beach-Anaheim, CA\n",
        "\n",
        "**Question 4 - Highest percentage across the 3**\n",
        "- New York-Newark-Jersey City, NY-NJ-PA\t\n"
      ]
    },
    {
      "cell_type": "code",
      "metadata": {
        "id": "11yGFcsZP6Ah",
        "colab_type": "code",
        "colab": {}
      },
      "source": [
        "## Import libraries\n",
        "import pandas as pd\n",
        "import json\n",
        "import requests\n",
        "import time\n",
        "import numpy as np\n",
        "import seaborn as sns"
      ],
      "execution_count": 0,
      "outputs": []
    },
    {
      "cell_type": "code",
      "metadata": {
        "id": "HB_EShv_P7cK",
        "colab_type": "code",
        "colab": {}
      },
      "source": [
        "## Load data from cloud location\n",
        "ozo = pd.read_csv('https://s3.amazonaws.com/vargo.aprd6342/data/msas.csv')"
      ],
      "execution_count": 0,
      "outputs": []
    },
    {
      "cell_type": "code",
      "metadata": {
        "id": "Su_YP8FdSHA7",
        "colab_type": "code",
        "colab": {}
      },
      "source": [
        "## tables from censusreporter that highlight information needed\n",
        "## includes ages, incomes and race information\n",
        "tableids = ['B01001','B03002','B19001']"
      ],
      "execution_count": 0,
      "outputs": []
    },
    {
      "cell_type": "code",
      "metadata": {
        "id": "_GZgUp-1dN2C",
        "colab_type": "code",
        "outputId": "abd89329-855a-4005-e5a1-fda7a2d08f21",
        "colab": {
          "base_uri": "https://localhost:8080/",
          "height": 34
        }
      },
      "source": [
        "## Join tables to make one list\n",
        "tableidstring = ','.join(tableids)\n",
        "print(tableidstring)"
      ],
      "execution_count": 6,
      "outputs": [
        {
          "output_type": "stream",
          "text": [
            "B01001,B03002,B19001\n"
          ],
          "name": "stdout"
        }
      ]
    },
    {
      "cell_type": "code",
      "metadata": {
        "id": "x8cJgK1x1o4z",
        "colab_type": "code",
        "colab": {}
      },
      "source": [
        "## set URL to query censusreporter API\n",
        "requesturl = 'https://api.censusreporter.org/1.0/data/show/latest?table_ids=%s&geo_ids=310|01000US' % str(tableidstring)"
      ],
      "execution_count": 0,
      "outputs": []
    },
    {
      "cell_type": "code",
      "metadata": {
        "id": "_2cJkkxCez-U",
        "colab_type": "code",
        "colab": {}
      },
      "source": [
        "# Make API request\n",
        "loaded = requests.get(requesturl)"
      ],
      "execution_count": 0,
      "outputs": []
    },
    {
      "cell_type": "code",
      "metadata": {
        "id": "lCjwKMSdNAVn",
        "colab_type": "code",
        "colab": {}
      },
      "source": [
        "# Pull JSON\n",
        "parsed = loaded.json()"
      ],
      "execution_count": 0,
      "outputs": []
    },
    {
      "cell_type": "code",
      "metadata": {
        "id": "HrHPsHjEP67d",
        "colab_type": "code",
        "colab": {}
      },
      "source": [
        "## Identify each level of information from JSON and add to OZO dataset\n",
        "ozo['m1819'] = 0\n",
        "ozo['m20'] = 0\n",
        "ozo['m21'] = 0\n",
        "ozo['m2224'] = 0\n",
        "ozo['m2529'] = 0\n",
        "ozo['m3034'] = 0\n",
        "ozo['f1819'] = 0\n",
        "ozo['f20'] = 0\n",
        "ozo['f21'] = 0\n",
        "ozo['f2224'] = 0\n",
        "ozo['f2529'] = 0\n",
        "ozo['f3034'] = 0\n",
        "ozo['hispanic'] = 0\n",
        "ozo['inc5059'] = 0\n",
        "ozo['inc6074'] = 0\n",
        "for geoid in list(ozo['CBSA']):\n",
        "  geo = '31000US' + str(geoid)\n",
        "  ozo.loc[ozo.CBSA == geoid, ['m1819']] = parsed['data'][geo]['B01001']['estimate']['B01001007'] \n",
        "  ozo.loc[ozo.CBSA == geoid, ['m20']] = parsed['data'][geo]['B01001']['estimate']['B01001008']\n",
        "  ozo.loc[ozo.CBSA == geoid, ['m21']] = parsed['data'][geo]['B01001']['estimate']['B01001009']\n",
        "  ozo.loc[ozo.CBSA == geoid, ['m2224']] = parsed['data'][geo]['B01001']['estimate']['B01001010']\n",
        "  ozo.loc[ozo.CBSA == geoid, ['m2529']] = parsed['data'][geo]['B01001']['estimate']['B01001011']\n",
        "  ozo.loc[ozo.CBSA == geoid, ['m3034']] = parsed['data'][geo]['B01001']['estimate']['B01001021']\n",
        "  ozo.loc[ozo.CBSA == geoid, ['f1819']] = parsed['data'][geo]['B01001']['estimate']['B01001031']\n",
        "  ozo.loc[ozo.CBSA == geoid, ['f20']] = parsed['data'][geo]['B01001']['estimate']['B01001032']\n",
        "  ozo.loc[ozo.CBSA == geoid, ['f21']] = parsed['data'][geo]['B01001']['estimate']['B01001033']\n",
        "  ozo.loc[ozo.CBSA == geoid, ['f2224']] = parsed['data'][geo]['B01001']['estimate']['B01001034']\n",
        "  ozo.loc[ozo.CBSA == geoid, ['f2529']] = parsed['data'][geo]['B01001']['estimate']['B01001035']\n",
        "  ozo.loc[ozo.CBSA == geoid, ['f3034']] = parsed['data'][geo]['B01001']['estimate']['B01001036']\n",
        "  ozo.loc[ozo.CBSA == geoid, ['hispanic']] = parsed['data'][geo]['B03002']['estimate']['B03002012']\n",
        "  ozo.loc[ozo.CBSA == geoid, ['inc5059']] = parsed['data'][geo]['B19001']['estimate']['B19001011']\n",
        "  ozo.loc[ozo.CBSA == geoid, ['inc6074']] = parsed['data'][geo]['B19001']['estimate']['B19001012']"
      ],
      "execution_count": 0,
      "outputs": []
    },
    {
      "cell_type": "code",
      "metadata": {
        "id": "Zx1YxclQkJii",
        "colab_type": "code",
        "colab": {}
      },
      "source": [
        "# ## Age data\n",
        "# data['data']['31000US19100']['B01001']['estimate']['B01001007'] # male 18-19\n",
        "# data['data']['31000US19100']['B01001']['estimate']['B01001008'] # male 20\n",
        "# data['data']['31000US19100']['B01001']['estimate']['B01001009'] # male 21\n",
        "# data['data']['31000US19100']['B01001']['estimate']['B010010010'] # male 22-24\n",
        "# data['data']['31000US19100']['B01001']['estimate']['B010010011'] # male 25-29\n",
        "# data['data']['31000US19100']['B01001']['estimate']['B010010012'] # male 30-34\n",
        "# data['data']['31000US19100']['B01001']['estimate']['B010010031'] # female 18-19\n",
        "# data['data']['31000US19100']['B01001']['estimate']['B010010032'] # female 20\n",
        "# data['data']['31000US19100']['B01001']['estimate']['B010010033'] # female 21\n",
        "# data['data']['31000US19100']['B01001']['estimate']['B010010034'] # female 22-24\n",
        "# data['data']['31000US19100']['B01001']['estimate']['B010010035'] # female 25-29\n",
        "# data['data']['31000US19100']['B01001']['estimate']['B010010036'] # female 30-34"
      ],
      "execution_count": 0,
      "outputs": []
    },
    {
      "cell_type": "code",
      "metadata": {
        "id": "pU-o7P2ntdvL",
        "colab_type": "code",
        "colab": {}
      },
      "source": [
        "## hispanic population\n",
        "# data['data']['31000US19100']['B03002']['estimate']['B03002012']"
      ],
      "execution_count": 0,
      "outputs": []
    },
    {
      "cell_type": "code",
      "metadata": {
        "id": "3JBW9e-PuXGx",
        "colab_type": "code",
        "colab": {}
      },
      "source": [
        "# ## Income in certain range\n",
        "# data['data']['31000US19100']['B19001']['estimate']['B19001011'] # 50-59k\n",
        "# data['data']['31000US19100']['B19001']['estimate']['B19001012'] # 60-74k\n"
      ],
      "execution_count": 0,
      "outputs": []
    },
    {
      "cell_type": "code",
      "metadata": {
        "id": "deIwFBcxn37Z",
        "colab_type": "code",
        "colab": {}
      },
      "source": [
        "# data['tables']['B19001']['columns']"
      ],
      "execution_count": 0,
      "outputs": []
    },
    {
      "cell_type": "code",
      "metadata": {
        "id": "F8lOxjFikZDC",
        "colab_type": "code",
        "colab": {}
      },
      "source": [
        "## Create new column with all age groups and income groups\n",
        "ozo['total_pop'] = ozo['m1819'] + ozo['m20'] + ozo['m21'] + ozo['m2224'] + \\\n",
        "                   ozo['m2529'] + ozo['m3034'] + ozo['f1819'] + ozo['f20'] + \\\n",
        "                   ozo['f21'] + ozo['f2224'] + ozo['f2529'] + ozo['f3034'] \n",
        "ozo['total_income'] = ozo['inc5059'] + ozo['inc6074']"
      ],
      "execution_count": 0,
      "outputs": []
    },
    {
      "cell_type": "code",
      "metadata": {
        "id": "4-TQDdxlZFib",
        "colab_type": "code",
        "outputId": "cfa267da-dc86-445d-bf19-f0943e0bb3e1",
        "colab": {
          "base_uri": "https://localhost:8080/",
          "height": 202
        }
      },
      "source": [
        "## Highest population in my range 18 - 34\n",
        "ozo.loc[ozo.total_pop == ozo.total_pop.max()]"
      ],
      "execution_count": 15,
      "outputs": [
        {
          "output_type": "execute_result",
          "data": {
            "text/html": [
              "<div>\n",
              "<style scoped>\n",
              "    .dataframe tbody tr th:only-of-type {\n",
              "        vertical-align: middle;\n",
              "    }\n",
              "\n",
              "    .dataframe tbody tr th {\n",
              "        vertical-align: top;\n",
              "    }\n",
              "\n",
              "    .dataframe thead th {\n",
              "        text-align: right;\n",
              "    }\n",
              "</style>\n",
              "<table border=\"1\" class=\"dataframe\">\n",
              "  <thead>\n",
              "    <tr style=\"text-align: right;\">\n",
              "      <th></th>\n",
              "      <th>CBSA</th>\n",
              "      <th>NAME</th>\n",
              "      <th>POPESTIMATE2017</th>\n",
              "      <th>m1819</th>\n",
              "      <th>m20</th>\n",
              "      <th>m21</th>\n",
              "      <th>m2224</th>\n",
              "      <th>m2529</th>\n",
              "      <th>m3034</th>\n",
              "      <th>f1819</th>\n",
              "      <th>f20</th>\n",
              "      <th>f21</th>\n",
              "      <th>f2224</th>\n",
              "      <th>f2529</th>\n",
              "      <th>f3034</th>\n",
              "      <th>hispanic</th>\n",
              "      <th>inc5059</th>\n",
              "      <th>inc6074</th>\n",
              "      <th>total_pop</th>\n",
              "      <th>total_income</th>\n",
              "    </tr>\n",
              "  </thead>\n",
              "  <tbody>\n",
              "    <tr>\n",
              "      <th>249</th>\n",
              "      <td>35620</td>\n",
              "      <td>New York-Newark-Jersey City, NY-NJ-PA</td>\n",
              "      <td>20320876</td>\n",
              "      <td>248434.0</td>\n",
              "      <td>133732.0</td>\n",
              "      <td>132580.0</td>\n",
              "      <td>411899.0</td>\n",
              "      <td>750663.0</td>\n",
              "      <td>242555.0</td>\n",
              "      <td>237913.0</td>\n",
              "      <td>129681.0</td>\n",
              "      <td>129093.0</td>\n",
              "      <td>416225.0</td>\n",
              "      <td>762402.0</td>\n",
              "      <td>730200.0</td>\n",
              "      <td>4863602.0</td>\n",
              "      <td>444453.0</td>\n",
              "      <td>606435.0</td>\n",
              "      <td>4325377.0</td>\n",
              "      <td>1050888.0</td>\n",
              "    </tr>\n",
              "  </tbody>\n",
              "</table>\n",
              "</div>"
            ],
            "text/plain": [
              "      CBSA                                   NAME  ...  total_pop  total_income\n",
              "249  35620  New York-Newark-Jersey City, NY-NJ-PA  ...  4325377.0     1050888.0\n",
              "\n",
              "[1 rows x 20 columns]"
            ]
          },
          "metadata": {
            "tags": []
          },
          "execution_count": 15
        }
      ]
    },
    {
      "cell_type": "code",
      "metadata": {
        "id": "raihjINeZeA2",
        "colab_type": "code",
        "outputId": "84bda3aa-8bf2-428e-a4c8-3f07b20d29f9",
        "colab": {
          "base_uri": "https://localhost:8080/",
          "height": 80
        }
      },
      "source": [
        "## Highest population in income range $50k - $74k\n",
        "ozo.loc[ozo.total_income == ozo.total_income.max()]"
      ],
      "execution_count": 0,
      "outputs": [
        {
          "output_type": "execute_result",
          "data": {
            "text/html": [
              "<div>\n",
              "<style scoped>\n",
              "    .dataframe tbody tr th:only-of-type {\n",
              "        vertical-align: middle;\n",
              "    }\n",
              "\n",
              "    .dataframe tbody tr th {\n",
              "        vertical-align: top;\n",
              "    }\n",
              "\n",
              "    .dataframe thead th {\n",
              "        text-align: right;\n",
              "    }\n",
              "</style>\n",
              "<table border=\"1\" class=\"dataframe\">\n",
              "  <thead>\n",
              "    <tr style=\"text-align: right;\">\n",
              "      <th></th>\n",
              "      <th>CBSA</th>\n",
              "      <th>NAME</th>\n",
              "      <th>POPESTIMATE2017</th>\n",
              "      <th>m1819</th>\n",
              "      <th>m20</th>\n",
              "      <th>m21</th>\n",
              "      <th>m2224</th>\n",
              "      <th>m2529</th>\n",
              "      <th>m3034</th>\n",
              "      <th>f1819</th>\n",
              "      <th>f20</th>\n",
              "      <th>f21</th>\n",
              "      <th>f2224</th>\n",
              "      <th>f2529</th>\n",
              "      <th>f3034</th>\n",
              "      <th>hispanic</th>\n",
              "      <th>inc5059</th>\n",
              "      <th>inc6074</th>\n",
              "      <th>total_pop</th>\n",
              "      <th>total_income</th>\n",
              "    </tr>\n",
              "  </thead>\n",
              "  <tbody>\n",
              "    <tr>\n",
              "      <th>249</th>\n",
              "      <td>35620</td>\n",
              "      <td>New York-Newark-Jersey City, NY-NJ-PA</td>\n",
              "      <td>20320876</td>\n",
              "      <td>248434.0</td>\n",
              "      <td>133732.0</td>\n",
              "      <td>132580.0</td>\n",
              "      <td>411899.0</td>\n",
              "      <td>750663.0</td>\n",
              "      <td>242555.0</td>\n",
              "      <td>237913.0</td>\n",
              "      <td>129681.0</td>\n",
              "      <td>129093.0</td>\n",
              "      <td>416225.0</td>\n",
              "      <td>762402.0</td>\n",
              "      <td>730200.0</td>\n",
              "      <td>4863602.0</td>\n",
              "      <td>444453.0</td>\n",
              "      <td>606435.0</td>\n",
              "      <td>4325377.0</td>\n",
              "      <td>1050888.0</td>\n",
              "    </tr>\n",
              "  </tbody>\n",
              "</table>\n",
              "</div>"
            ],
            "text/plain": [
              "      CBSA                                   NAME  ...  total_pop  total_income\n",
              "249  35620  New York-Newark-Jersey City, NY-NJ-PA  ...  4325377.0     1050888.0\n",
              "\n",
              "[1 rows x 20 columns]"
            ]
          },
          "metadata": {
            "tags": []
          },
          "execution_count": 15
        }
      ]
    },
    {
      "cell_type": "code",
      "metadata": {
        "id": "ldQfG_pwZhYG",
        "colab_type": "code",
        "outputId": "c5c2cc65-0ea5-42ae-be30-969d83f15864",
        "colab": {
          "base_uri": "https://localhost:8080/",
          "height": 80
        }
      },
      "source": [
        "## Highest population of hispanic people\n",
        "ozo.loc[ozo.hispanic == ozo.hispanic.max()]"
      ],
      "execution_count": 0,
      "outputs": [
        {
          "output_type": "execute_result",
          "data": {
            "text/html": [
              "<div>\n",
              "<style scoped>\n",
              "    .dataframe tbody tr th:only-of-type {\n",
              "        vertical-align: middle;\n",
              "    }\n",
              "\n",
              "    .dataframe tbody tr th {\n",
              "        vertical-align: top;\n",
              "    }\n",
              "\n",
              "    .dataframe thead th {\n",
              "        text-align: right;\n",
              "    }\n",
              "</style>\n",
              "<table border=\"1\" class=\"dataframe\">\n",
              "  <thead>\n",
              "    <tr style=\"text-align: right;\">\n",
              "      <th></th>\n",
              "      <th>CBSA</th>\n",
              "      <th>NAME</th>\n",
              "      <th>POPESTIMATE2017</th>\n",
              "      <th>m1819</th>\n",
              "      <th>m20</th>\n",
              "      <th>m21</th>\n",
              "      <th>m2224</th>\n",
              "      <th>m2529</th>\n",
              "      <th>m3034</th>\n",
              "      <th>f1819</th>\n",
              "      <th>f20</th>\n",
              "      <th>f21</th>\n",
              "      <th>f2224</th>\n",
              "      <th>f2529</th>\n",
              "      <th>f3034</th>\n",
              "      <th>hispanic</th>\n",
              "      <th>inc5059</th>\n",
              "      <th>inc6074</th>\n",
              "      <th>total_pop</th>\n",
              "      <th>total_income</th>\n",
              "    </tr>\n",
              "  </thead>\n",
              "  <tbody>\n",
              "    <tr>\n",
              "      <th>210</th>\n",
              "      <td>31080</td>\n",
              "      <td>Los Angeles-Long Beach-Anaheim, CA</td>\n",
              "      <td>13353907</td>\n",
              "      <td>180803.0</td>\n",
              "      <td>100836.0</td>\n",
              "      <td>101477.0</td>\n",
              "      <td>294903.0</td>\n",
              "      <td>544334.0</td>\n",
              "      <td>140940.0</td>\n",
              "      <td>176190.0</td>\n",
              "      <td>97896.0</td>\n",
              "      <td>94470.0</td>\n",
              "      <td>290607.0</td>\n",
              "      <td>519755.0</td>\n",
              "      <td>480658.0</td>\n",
              "      <td>5972751.0</td>\n",
              "      <td>300860.0</td>\n",
              "      <td>399821.0</td>\n",
              "      <td>3022869.0</td>\n",
              "      <td>700681.0</td>\n",
              "    </tr>\n",
              "  </tbody>\n",
              "</table>\n",
              "</div>"
            ],
            "text/plain": [
              "      CBSA                                NAME  ...  total_pop  total_income\n",
              "210  31080  Los Angeles-Long Beach-Anaheim, CA  ...  3022869.0      700681.0\n",
              "\n",
              "[1 rows x 20 columns]"
            ]
          },
          "metadata": {
            "tags": []
          },
          "execution_count": 16
        }
      ]
    },
    {
      "cell_type": "code",
      "metadata": {
        "id": "usbaW-jpZsGH",
        "colab_type": "code",
        "colab": {}
      },
      "source": [
        "## Create percentages\n",
        "ozo['pop_perc'] = 0.0\n",
        "ozo['inc_perc'] = 0.0\n",
        "ozo['hispanic_perc'] = 0.0\n",
        "ozo['pop_perc'] = ozo['total_pop'] / ozo['total_pop'].max()\n",
        "ozo['inc_perc'] = ozo['total_income'] / ozo['total_income'].max()\n",
        "ozo['hispanic_perc'] = ozo['hispanic'] / ozo['hispanic'].max()"
      ],
      "execution_count": 0,
      "outputs": []
    },
    {
      "cell_type": "code",
      "metadata": {
        "id": "Ns3--dBOfh8u",
        "colab_type": "code",
        "colab": {}
      },
      "source": [
        "## Highest mean group\n",
        "ozo['mean_perc'] = ozo[['pop_perc','inc_perc','hispanic_perc']].mean(axis=1)"
      ],
      "execution_count": 0,
      "outputs": []
    },
    {
      "cell_type": "code",
      "metadata": {
        "id": "GlFOCS-_f0iu",
        "colab_type": "code",
        "outputId": "e4ec110c-8ab4-4673-8ee5-9f062bfdabe3",
        "colab": {
          "base_uri": "https://localhost:8080/",
          "height": 202
        }
      },
      "source": [
        "ozo.loc[ozo.mean_perc == ozo.mean_perc.max()]"
      ],
      "execution_count": 0,
      "outputs": [
        {
          "output_type": "execute_result",
          "data": {
            "text/html": [
              "<div>\n",
              "<style scoped>\n",
              "    .dataframe tbody tr th:only-of-type {\n",
              "        vertical-align: middle;\n",
              "    }\n",
              "\n",
              "    .dataframe tbody tr th {\n",
              "        vertical-align: top;\n",
              "    }\n",
              "\n",
              "    .dataframe thead th {\n",
              "        text-align: right;\n",
              "    }\n",
              "</style>\n",
              "<table border=\"1\" class=\"dataframe\">\n",
              "  <thead>\n",
              "    <tr style=\"text-align: right;\">\n",
              "      <th></th>\n",
              "      <th>CBSA</th>\n",
              "      <th>NAME</th>\n",
              "      <th>POPESTIMATE2017</th>\n",
              "      <th>m1819</th>\n",
              "      <th>m20</th>\n",
              "      <th>m21</th>\n",
              "      <th>m2224</th>\n",
              "      <th>m2529</th>\n",
              "      <th>m3034</th>\n",
              "      <th>f1819</th>\n",
              "      <th>f20</th>\n",
              "      <th>f21</th>\n",
              "      <th>f2224</th>\n",
              "      <th>f2529</th>\n",
              "      <th>f3034</th>\n",
              "      <th>hispanic</th>\n",
              "      <th>inc5059</th>\n",
              "      <th>inc6074</th>\n",
              "      <th>total_pop</th>\n",
              "      <th>total_income</th>\n",
              "      <th>pop_perc</th>\n",
              "      <th>inc_perc</th>\n",
              "      <th>hispanic_perc</th>\n",
              "      <th>mean_perc</th>\n",
              "    </tr>\n",
              "  </thead>\n",
              "  <tbody>\n",
              "    <tr>\n",
              "      <th>249</th>\n",
              "      <td>35620</td>\n",
              "      <td>New York-Newark-Jersey City, NY-NJ-PA</td>\n",
              "      <td>20320876</td>\n",
              "      <td>248434.0</td>\n",
              "      <td>133732.0</td>\n",
              "      <td>132580.0</td>\n",
              "      <td>411899.0</td>\n",
              "      <td>750663.0</td>\n",
              "      <td>242555.0</td>\n",
              "      <td>237913.0</td>\n",
              "      <td>129681.0</td>\n",
              "      <td>129093.0</td>\n",
              "      <td>416225.0</td>\n",
              "      <td>762402.0</td>\n",
              "      <td>730200.0</td>\n",
              "      <td>4863602.0</td>\n",
              "      <td>444453.0</td>\n",
              "      <td>606435.0</td>\n",
              "      <td>4325377.0</td>\n",
              "      <td>1050888.0</td>\n",
              "      <td>1.0</td>\n",
              "      <td>1.0</td>\n",
              "      <td>0.814298</td>\n",
              "      <td>0.938099</td>\n",
              "    </tr>\n",
              "  </tbody>\n",
              "</table>\n",
              "</div>"
            ],
            "text/plain": [
              "      CBSA                                   NAME  ...  hispanic_perc  mean_perc\n",
              "249  35620  New York-Newark-Jersey City, NY-NJ-PA  ...       0.814298   0.938099\n",
              "\n",
              "[1 rows x 24 columns]"
            ]
          },
          "metadata": {
            "tags": []
          },
          "execution_count": 19
        }
      ]
    },
    {
      "cell_type": "code",
      "metadata": {
        "id": "qYwk59lOgOsq",
        "colab_type": "code",
        "outputId": "5acf4359-6537-4234-8567-50eb0417b173",
        "colab": {
          "base_uri": "https://localhost:8080/",
          "height": 258
        }
      },
      "source": [
        "ozo.head()\n"
      ],
      "execution_count": 0,
      "outputs": [
        {
          "output_type": "execute_result",
          "data": {
            "text/html": [
              "<div>\n",
              "<style scoped>\n",
              "    .dataframe tbody tr th:only-of-type {\n",
              "        vertical-align: middle;\n",
              "    }\n",
              "\n",
              "    .dataframe tbody tr th {\n",
              "        vertical-align: top;\n",
              "    }\n",
              "\n",
              "    .dataframe thead th {\n",
              "        text-align: right;\n",
              "    }\n",
              "</style>\n",
              "<table border=\"1\" class=\"dataframe\">\n",
              "  <thead>\n",
              "    <tr style=\"text-align: right;\">\n",
              "      <th></th>\n",
              "      <th>CBSA</th>\n",
              "      <th>NAME</th>\n",
              "      <th>POPESTIMATE2017</th>\n",
              "      <th>m1819</th>\n",
              "      <th>m20</th>\n",
              "      <th>m21</th>\n",
              "      <th>m2224</th>\n",
              "      <th>m2529</th>\n",
              "      <th>m3034</th>\n",
              "      <th>f1819</th>\n",
              "      <th>f20</th>\n",
              "      <th>f21</th>\n",
              "      <th>f2224</th>\n",
              "      <th>f2529</th>\n",
              "      <th>f3034</th>\n",
              "      <th>hispanic</th>\n",
              "      <th>inc5059</th>\n",
              "      <th>inc6074</th>\n",
              "      <th>total_pop</th>\n",
              "      <th>total_income</th>\n",
              "      <th>pop_perc</th>\n",
              "      <th>inc_perc</th>\n",
              "      <th>hispanic_perc</th>\n",
              "      <th>mean_perc</th>\n",
              "    </tr>\n",
              "  </thead>\n",
              "  <tbody>\n",
              "    <tr>\n",
              "      <th>0</th>\n",
              "      <td>10180</td>\n",
              "      <td>Abilene, TX</td>\n",
              "      <td>170219</td>\n",
              "      <td>2955.0</td>\n",
              "      <td>1635.0</td>\n",
              "      <td>1496.0</td>\n",
              "      <td>5711.0</td>\n",
              "      <td>7218.0</td>\n",
              "      <td>1938.0</td>\n",
              "      <td>2667.0</td>\n",
              "      <td>1545.0</td>\n",
              "      <td>1815.0</td>\n",
              "      <td>4561.0</td>\n",
              "      <td>5723.0</td>\n",
              "      <td>5271.0</td>\n",
              "      <td>38892.0</td>\n",
              "      <td>5409.0</td>\n",
              "      <td>6161.0</td>\n",
              "      <td>42535.0</td>\n",
              "      <td>11570.0</td>\n",
              "      <td>0.009834</td>\n",
              "      <td>0.011010</td>\n",
              "      <td>0.006512</td>\n",
              "      <td>0.009118</td>\n",
              "    </tr>\n",
              "    <tr>\n",
              "      <th>1</th>\n",
              "      <td>10420</td>\n",
              "      <td>Akron, OH</td>\n",
              "      <td>703505</td>\n",
              "      <td>10724.0</td>\n",
              "      <td>5803.0</td>\n",
              "      <td>4554.0</td>\n",
              "      <td>16178.0</td>\n",
              "      <td>23309.0</td>\n",
              "      <td>9880.0</td>\n",
              "      <td>10876.0</td>\n",
              "      <td>5953.0</td>\n",
              "      <td>5615.0</td>\n",
              "      <td>15540.0</td>\n",
              "      <td>22650.0</td>\n",
              "      <td>20902.0</td>\n",
              "      <td>13318.0</td>\n",
              "      <td>23051.0</td>\n",
              "      <td>29395.0</td>\n",
              "      <td>151984.0</td>\n",
              "      <td>52446.0</td>\n",
              "      <td>0.035138</td>\n",
              "      <td>0.049906</td>\n",
              "      <td>0.002230</td>\n",
              "      <td>0.029091</td>\n",
              "    </tr>\n",
              "    <tr>\n",
              "      <th>2</th>\n",
              "      <td>10500</td>\n",
              "      <td>Albany, GA</td>\n",
              "      <td>151434</td>\n",
              "      <td>2270.0</td>\n",
              "      <td>1614.0</td>\n",
              "      <td>832.0</td>\n",
              "      <td>2939.0</td>\n",
              "      <td>5062.0</td>\n",
              "      <td>2077.0</td>\n",
              "      <td>2416.0</td>\n",
              "      <td>1183.0</td>\n",
              "      <td>1440.0</td>\n",
              "      <td>3165.0</td>\n",
              "      <td>5390.0</td>\n",
              "      <td>4996.0</td>\n",
              "      <td>4057.0</td>\n",
              "      <td>4471.0</td>\n",
              "      <td>5058.0</td>\n",
              "      <td>33384.0</td>\n",
              "      <td>9529.0</td>\n",
              "      <td>0.007718</td>\n",
              "      <td>0.009068</td>\n",
              "      <td>0.000679</td>\n",
              "      <td>0.005822</td>\n",
              "    </tr>\n",
              "    <tr>\n",
              "      <th>3</th>\n",
              "      <td>10540</td>\n",
              "      <td>Albany, OR</td>\n",
              "      <td>125047</td>\n",
              "      <td>1279.0</td>\n",
              "      <td>977.0</td>\n",
              "      <td>606.0</td>\n",
              "      <td>2145.0</td>\n",
              "      <td>4010.0</td>\n",
              "      <td>2530.0</td>\n",
              "      <td>1208.0</td>\n",
              "      <td>984.0</td>\n",
              "      <td>634.0</td>\n",
              "      <td>1915.0</td>\n",
              "      <td>4028.0</td>\n",
              "      <td>3837.0</td>\n",
              "      <td>10483.0</td>\n",
              "      <td>3859.0</td>\n",
              "      <td>5414.0</td>\n",
              "      <td>24153.0</td>\n",
              "      <td>9273.0</td>\n",
              "      <td>0.005584</td>\n",
              "      <td>0.008824</td>\n",
              "      <td>0.001755</td>\n",
              "      <td>0.005388</td>\n",
              "    </tr>\n",
              "    <tr>\n",
              "      <th>4</th>\n",
              "      <td>10580</td>\n",
              "      <td>Albany-Schenectady-Troy, NY</td>\n",
              "      <td>886188</td>\n",
              "      <td>15282.0</td>\n",
              "      <td>7901.0</td>\n",
              "      <td>7458.0</td>\n",
              "      <td>20534.0</td>\n",
              "      <td>28615.0</td>\n",
              "      <td>12075.0</td>\n",
              "      <td>14521.0</td>\n",
              "      <td>7365.0</td>\n",
              "      <td>7040.0</td>\n",
              "      <td>19708.0</td>\n",
              "      <td>27717.0</td>\n",
              "      <td>27902.0</td>\n",
              "      <td>42999.0</td>\n",
              "      <td>26429.0</td>\n",
              "      <td>35665.0</td>\n",
              "      <td>196118.0</td>\n",
              "      <td>62094.0</td>\n",
              "      <td>0.045341</td>\n",
              "      <td>0.059087</td>\n",
              "      <td>0.007199</td>\n",
              "      <td>0.037209</td>\n",
              "    </tr>\n",
              "  </tbody>\n",
              "</table>\n",
              "</div>"
            ],
            "text/plain": [
              "    CBSA                         NAME  ...  hispanic_perc  mean_perc\n",
              "0  10180                  Abilene, TX  ...       0.006512   0.009118\n",
              "1  10420                    Akron, OH  ...       0.002230   0.029091\n",
              "2  10500                   Albany, GA  ...       0.000679   0.005822\n",
              "3  10540                   Albany, OR  ...       0.001755   0.005388\n",
              "4  10580  Albany-Schenectady-Troy, NY  ...       0.007199   0.037209\n",
              "\n",
              "[5 rows x 24 columns]"
            ]
          },
          "metadata": {
            "tags": []
          },
          "execution_count": 20
        }
      ]
    }
  ]
}