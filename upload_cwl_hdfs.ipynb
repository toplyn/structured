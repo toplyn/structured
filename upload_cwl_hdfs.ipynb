{
 "cells": [
  {
   "cell_type": "code",
   "execution_count": 1,
   "metadata": {},
   "outputs": [],
   "source": [
    "from hdfs import InsecureClient"
   ]
  },
  {
   "cell_type": "code",
   "execution_count": 2,
   "metadata": {},
   "outputs": [],
   "source": [
    "client = InsecureClient('http://namenode:50070', user='root')"
   ]
  },
  {
   "cell_type": "code",
   "execution_count": 3,
   "metadata": {},
   "outputs": [],
   "source": [
    "client.makedirs('/Users')\n",
    "client.makedirs('/Users/vagrant')\n",
    "client.set_owner('/Users/vagrant', owner='vagrant', group='vagrant')"
   ]
  },
  {
   "cell_type": "code",
   "execution_count": 4,
   "metadata": {},
   "outputs": [
    {
     "data": {
      "text/plain": [
       "['structured-2018-01-14-neworleans',\n",
       " 'structured-2018-03-11-atlanta',\n",
       " 'structured-2018-04-01-birmingham',\n",
       " 'structured-2018-04-08-proleague1',\n",
       " 'structured-2018-04-19-relegation',\n",
       " 'structured-2018-04-22-seattle',\n",
       " 'structured-2018-06-17-anaheim',\n",
       " 'structured-2018-07-29-proleague2',\n",
       " 'structured-2018-08-19-champs']"
      ]
     },
     "execution_count": 4,
     "metadata": {},
     "output_type": "execute_result"
    }
   ],
   "source": [
    "client.list('/Users/vagrant/')"
   ]
  },
  {
   "cell_type": "code",
   "execution_count": 5,
   "metadata": {},
   "outputs": [],
   "source": [
    "import sys\n",
    "sys.path += ['../..']\n",
    "\n",
    "import os\n",
    "\n",
    "import tarfile\n",
    "import json\n",
    "\n",
    "import matplotlib.pyplot as plt\n",
    "\n",
    "import string"
   ]
  },
  {
   "cell_type": "code",
   "execution_count": 6,
   "metadata": {},
   "outputs": [],
   "source": [
    "import re\n",
    "pattern = r'(\\w+-2018-\\d+-\\d+-\\w+)'\n",
    "\n",
    "EVENTS_DIR = os.listdir('/home/vagrant/work/week6/cwl-data/data/structured/')\n",
    "EVENTS = []\n",
    "for file in EVENTS_DIR:\n",
    "    if not file.endswith(\".tar.gz\") and len(file) > 15 and re.match(pattern, file):\n",
    "        EVENTS.append(file)"
   ]
  },
  {
   "cell_type": "code",
   "execution_count": 8,
   "metadata": {},
   "outputs": [],
   "source": [
    "for dirx in EVENTS:\n",
    "    client.makedirs('/Users/vagrant/' + dirx)\n",
    "    "
   ]
  },
  {
   "cell_type": "code",
   "execution_count": 11,
   "metadata": {},
   "outputs": [
    {
     "data": {
      "text/plain": [
       "['structured-2018-01-14-neworleans',\n",
       " 'structured-2018-03-11-atlanta',\n",
       " 'structured-2018-04-01-birmingham',\n",
       " 'structured-2018-04-08-proleague1',\n",
       " 'structured-2018-04-19-relegation',\n",
       " 'structured-2018-04-22-seattle',\n",
       " 'structured-2018-06-17-anaheim',\n",
       " 'structured-2018-07-29-proleague2',\n",
       " 'structured-2018-08-19-champs']"
      ]
     },
     "execution_count": 11,
     "metadata": {},
     "output_type": "execute_result"
    }
   ],
   "source": [
    "client.list('/Users/vagrant/')"
   ]
  },
  {
   "cell_type": "code",
   "execution_count": 10,
   "metadata": {},
   "outputs": [
    {
     "data": {
      "text/plain": [
       "['structured-1522586310-9b705a61-966c-501d-9748-0ef12b516dfc.png',\n",
       " 'structured-1522535103-37481994-70da-5003-afa5-05987d20c558.png',\n",
       " 'structured-1522582745-6011ede8-4ec9-5d36-913f-be1cc782eda9.png',\n",
       " 'structured-1522585694-c8fe3382-7e75-518d-a375-264b66f91eb9.png',\n",
       " 'structured-1522529791-18001344-f74d-520f-9be8-30a98777ca7a.png',\n",
       " 'structured-1522580492-643b8e43-b8af-5c8e-8aa4-e79b729bd5dd.png',\n",
       " 'structured-1522611837-bd7db5f2-71a3-5663-b7f5-3a322305b81e.png',\n",
       " 'structured-1522530609-c9c6c22d-ef7c-5d4c-8c72-2bed81809737.png',\n",
       " 'structured-1522446525-9f9bb471-d10b-59c3-b973-924fdaf52ac1.png',\n",
       " 'structured-1522533611-5f98f40e-ee84-561b-82a6-cc7348933714.png',\n",
       " 'structured-1522517575-12e0967f-6fbb-5f20-97cf-46ad5205aa00.png',\n",
       " 'structured-1522429248-1c7b04cf-e5a0-591b-aae5-7d4803110115.png',\n",
       " 'structured-1522594810-a5fd7671-edcc-5bff-83eb-add3977cc94b.png',\n",
       " 'structured-1522534970-f6521abc-511d-5dc7-83f7-301569cf51a7.png',\n",
       " 'structured-1522583473-73fbc6e4-c516-5d85-960c-31d5ecaef8e6.png',\n",
       " 'structured-1522530407-97c07ab0-f034-5474-a0f1-23cbc972d1b2.png',\n",
       " 'structured-1522440815-acd81c00-4d15-59e5-b145-47e15be5309b.png',\n",
       " 'structured-1522582937-727047b5-a5b4-58b8-aec0-9a92546c12c4.png',\n",
       " 'structured-1522430433-25fbca03-1464-573e-acfc-a2382e27940d.png',\n",
       " 'structured-1522527661-9d554e56-c1e5-5d88-b48a-5c7b771586b3.png',\n",
       " 'structured-1522426367-21c6ca00-5e68-58f7-9956-790736f9668b.png',\n",
       " 'structured-1522520189-9cd0c34d-0582-5312-92c9-4fdb70ea245a.png',\n",
       " 'structured-1522525069-250a55d4-3c78-5564-8d50-d6e1e5ce0ed6.png',\n",
       " 'structured-1522429402-91ef4e84-b0e5-5bb1-b15d-f3c99c71d82f.png',\n",
       " 'structured-1522592315-121ad19e-617a-5695-ac18-d38f5307475c.png',\n",
       " 'structured-1522617323-c9387ca0-cec0-5dec-8cd1-dcbb48ed53a1.png',\n",
       " 'structured-1522589410-c7b87a65-e001-570e-8a39-c03549cce7dd.png',\n",
       " 'structured-1522512984-a4ebd15c-603e-5027-8774-5c68f2049ecd.png',\n",
       " 'structured-1522524267-658d7913-6957-5d7e-89ba-3f3a0d9d1faa.png',\n",
       " 'structured-1522507289-aee251b1-ce59-5f1d-bd9c-4db4d49e9314.png',\n",
       " 'structured-1522511273-b52923a5-a8c2-5ea8-84a6-7ea1a9f4cd1b.png',\n",
       " 'structured-1522533440-eb944283-573b-5197-865b-93472dbc818d.png',\n",
       " 'structured-1522595890-8b552f1c-ed65-5859-bd4c-48e8ae255df0.png',\n",
       " 'structured-1522521688-5e21988e-45c2-5a7e-aafc-c08bd8a0112c.png',\n",
       " 'structured-1522527063-1140b829-7181-5e59-ab44-0e5093a3fdb8.png',\n",
       " 'structured-1522444444-1ff37367-efa5-5d9d-be57-17d2d8b1af12.png',\n",
       " 'structured-1522513896-0028ebf0-5a41-5c93-9b29-cd47ebeba092.png',\n",
       " 'structured-1522592240-dd9159ce-0a62-5338-9e7c-62eb10cd01f5.png',\n",
       " 'structured-1522582642-13df0611-e413-522b-aff1-f9e6bb8d419c.png',\n",
       " 'structured-1522585167-84be64ac-9344-5983-a13c-c91ae4fe5e76.png',\n",
       " 'structured-1522589247-995b46c4-4ec8-5bc7-b697-7e21a76b6bf1.png',\n",
       " 'structured-1522510262-35293c13-8b0f-5b58-8738-db73cfe0020b.png',\n",
       " 'structured-1522523599-3f48f358-4e03-50ed-ace0-7b48af9fbcf1.png',\n",
       " 'structured-1522590768-0ac369cd-37c9-5083-84c8-38bfd85ec4df.png',\n",
       " 'structured-1522518107-c2b90b29-64f6-553b-93a8-5311c19ec138.png',\n",
       " 'structured-1522432745-2fe5ab9c-7a66-5ca2-8427-1dbfb6d2d3f7.png',\n",
       " 'structured-1522511724-2092a244-2c63-5f28-b457-799dcc6c456d.png',\n",
       " 'structured-1522596361-41e397af-6612-5c96-91fb-3d671efba734.png',\n",
       " 'structured-1522588288-9ce8e2ba-c59d-56a5-ab31-ec966b958db7.png',\n",
       " 'structured-1522523062-e5ee4ffe-6233-5fce-b228-a51e331b5974.png',\n",
       " 'structured-1522430493-ea2a1bfa-760a-51de-a31f-e8ef1f56957b.png',\n",
       " 'structured-1522577847-b6e451fc-8041-5599-83e1-617ac184caf8.png',\n",
       " 'structured-1522577678-dd78d11b-858b-5311-a924-9771413c24f1.png',\n",
       " 'structured-1522593950-5ae2dd4a-e9c1-51c8-8b23-8408c10991d2.png',\n",
       " 'structured-1522429383-f46efc4a-ebe2-59b9-8ed7-59e011f1ffff.png',\n",
       " 'structured-1522522099-cfe8a91c-c41a-5d8b-b41e-438ac9b857cc.png',\n",
       " 'structured-1522584264-f8db1e59-1626-55bf-90f4-10a6ec446be6.png',\n",
       " 'structured-1522579619-b6175930-8386-5cdc-b44a-ff28c3acfc61.png',\n",
       " 'structured-1522610156-f8d71f2d-0528-5f62-8fec-b46bae384198.png',\n",
       " 'structured-1522601930-5129e2ea-940a-5dd2-9f76-8eb33af6fea0.png',\n",
       " 'structured-1522522772-f0de5e20-5de5-5a30-b411-eac20292ad07.png',\n",
       " 'structured-1522591939-8834ad77-be3b-5478-835f-cb96e0988f60.png',\n",
       " 'structured-1522593074-fcdb4116-ca07-5b6e-ac7e-2a0d7aa3792c.png',\n",
       " 'structured-1522516713-05f86840-a1b0-538e-bf25-2baff207f73a.png',\n",
       " 'structured-1522514690-135bc1e5-77ca-53c9-819d-ceeb7c1818cd.png',\n",
       " 'structured-1522598390-ada51035-394a-5314-a925-4110a0d1ea96.png',\n",
       " 'structured-1522433880-191db8ea-4f33-513b-a28a-d2c5f75eca66.png',\n",
       " 'structured-1522608113-6ea84451-44da-52af-8816-268d647ec7cd.png',\n",
       " 'structured-1522523833-9c9120c5-34c9-5888-8aba-91c575bf0b42.png',\n",
       " 'structured-1522583416-3bb06f9c-77d3-5467-a558-8258dea09588.png',\n",
       " 'structured-1522527266-70ae3dd9-8467-5d26-b770-1f7ed759b4a9.png',\n",
       " 'structured-1522580091-50259113-da32-5b3a-be6a-2bb61eaebe1b.png',\n",
       " 'structured-1522584208-eca960ed-a3c2-5e12-b819-29e6d13d64c5.png',\n",
       " 'structured-1522535685-9fe350f8-bf46-5334-9347-c70dbe4a4fa3.png',\n",
       " 'structured-1522585377-ec824403-c843-53ed-8fc8-8fc637d45ab5.png',\n",
       " 'structured-1522515619-af2c564b-c35f-5ed7-ac8b-a85e0979e446.png',\n",
       " 'structured-1522579275-93bcfd36-344f-5a99-b60b-ca7c14695177.png',\n",
       " 'structured-1522532952-6873082b-88cd-5540-ae62-39aa21c05e37.png',\n",
       " 'structured-1522612919-37be49dc-0b1d-5e71-b4f7-102bb6dde903.png',\n",
       " 'structured-1522513858-085b5d2e-50ed-57f5-b4da-a19aa0b259df.png',\n",
       " 'structured-1522507739-c8ac1ffd-eb5b-5007-bf1b-7623da7a2fd8.png',\n",
       " 'structured-1522510765-4e755691-a257-5906-8d84-0073f60a72c6.png',\n",
       " 'structured-1522619073-43ac4d34-98dd-57d0-a116-db6eff67f98c.png',\n",
       " 'structured-1522521397-ee5e809d-d851-5d62-95db-b1be1028f58c.png']"
      ]
     },
     "execution_count": 10,
     "metadata": {},
     "output_type": "execute_result"
    }
   ],
   "source": [
    "os.listdir('/home/vagrant/work/week6/maps_hw/structured-2018-04-01-birmingham/')"
   ]
  },
  {
   "cell_type": "code",
   "execution_count": 31,
   "metadata": {},
   "outputs": [
    {
     "name": "stdout",
     "output_type": "stream",
     "text": [
      "/home/vagrant/work/week6/maps_hw/\n",
      "/Users/vagrant/\n"
     ]
    }
   ],
   "source": [
    "import os\n",
    "datadir = os.path.join('/','home','vagrant','work','week6','maps_hw/')\n",
    "hdfsdir = '/Users/vagrant/'\n",
    "print(datadir)\n",
    "print(hdfsdir)"
   ]
  },
  {
   "cell_type": "code",
   "execution_count": 32,
   "metadata": {},
   "outputs": [
    {
     "name": "stdout",
     "output_type": "stream",
     "text": [
      "/Users/vagrant/structured-2018-04-01-birmingham\n"
     ]
    }
   ],
   "source": [
    "print(hdfsdir + 'structured-2018-04-01-birmingham')"
   ]
  },
  {
   "cell_type": "code",
   "execution_count": 33,
   "metadata": {},
   "outputs": [
    {
     "name": "stdout",
     "output_type": "stream",
     "text": [
      "/home/vagrant/work/week6/maps_hw/structured-2018-04-01-birmingham\n"
     ]
    }
   ],
   "source": [
    "print(datadir + 'structured-2018-04-01-birmingham')"
   ]
  },
  {
   "cell_type": "code",
   "execution_count": 35,
   "metadata": {},
   "outputs": [
    {
     "name": "stdout",
     "output_type": "stream",
     "text": [
      "['structured-2018-04-01-birmingham', 'structured-2018-01-14-neworleans', 'structured-2018-04-19-relegation', 'structured-2018-04-08-proleague1', 'structured-2018-08-19-champs', 'structured-2018-07-29-proleague2', 'structured-2018-06-17-anaheim', 'structured-2018-03-11-atlanta', 'structured-2018-04-22-seattle']\n"
     ]
    }
   ],
   "source": [
    "print(EVENTS)"
   ]
  },
  {
   "cell_type": "code",
   "execution_count": 40,
   "metadata": {},
   "outputs": [],
   "source": [
    "for loadx in EVENTS:\n",
    "    for filex in os.listdir(datadir + loadx):\n",
    "        #print(hdfsdir + loadx +'/' + filex)\n",
    "        #print(os.listdir(datadir + loadx))\n",
    "        client.upload((hdfsdir + loadx +'/' + filex), (datadir + loadx + '/' + filex))"
   ]
  },
  {
   "cell_type": "code",
   "execution_count": 41,
   "metadata": {},
   "outputs": [
    {
     "data": {
      "text/plain": [
       "['cwl-data',\n",
       " 'structured-1522426367-21c6ca00-5e68-58f7-9956-790736f9668b.png',\n",
       " 'structured-1522429248-1c7b04cf-e5a0-591b-aae5-7d4803110115.png',\n",
       " 'structured-1522429383-f46efc4a-ebe2-59b9-8ed7-59e011f1ffff.png',\n",
       " 'structured-1522429402-91ef4e84-b0e5-5bb1-b15d-f3c99c71d82f.png',\n",
       " 'structured-1522430433-25fbca03-1464-573e-acfc-a2382e27940d.png',\n",
       " 'structured-1522430493-ea2a1bfa-760a-51de-a31f-e8ef1f56957b.png',\n",
       " 'structured-1522432745-2fe5ab9c-7a66-5ca2-8427-1dbfb6d2d3f7.png',\n",
       " 'structured-1522433880-191db8ea-4f33-513b-a28a-d2c5f75eca66.png',\n",
       " 'structured-1522440815-acd81c00-4d15-59e5-b145-47e15be5309b.png',\n",
       " 'structured-1522444444-1ff37367-efa5-5d9d-be57-17d2d8b1af12.png',\n",
       " 'structured-1522446525-9f9bb471-d10b-59c3-b973-924fdaf52ac1.png',\n",
       " 'structured-1522507289-aee251b1-ce59-5f1d-bd9c-4db4d49e9314.png',\n",
       " 'structured-1522507739-c8ac1ffd-eb5b-5007-bf1b-7623da7a2fd8.png',\n",
       " 'structured-1522510262-35293c13-8b0f-5b58-8738-db73cfe0020b.png',\n",
       " 'structured-1522510765-4e755691-a257-5906-8d84-0073f60a72c6.png',\n",
       " 'structured-1522511273-b52923a5-a8c2-5ea8-84a6-7ea1a9f4cd1b.png',\n",
       " 'structured-1522511724-2092a244-2c63-5f28-b457-799dcc6c456d.png',\n",
       " 'structured-1522512984-a4ebd15c-603e-5027-8774-5c68f2049ecd.png',\n",
       " 'structured-1522513858-085b5d2e-50ed-57f5-b4da-a19aa0b259df.png',\n",
       " 'structured-1522513896-0028ebf0-5a41-5c93-9b29-cd47ebeba092.png',\n",
       " 'structured-1522514690-135bc1e5-77ca-53c9-819d-ceeb7c1818cd.png',\n",
       " 'structured-1522515619-af2c564b-c35f-5ed7-ac8b-a85e0979e446.png',\n",
       " 'structured-1522516713-05f86840-a1b0-538e-bf25-2baff207f73a.png',\n",
       " 'structured-1522517575-12e0967f-6fbb-5f20-97cf-46ad5205aa00.png',\n",
       " 'structured-1522518107-c2b90b29-64f6-553b-93a8-5311c19ec138.png',\n",
       " 'structured-1522520189-9cd0c34d-0582-5312-92c9-4fdb70ea245a.png',\n",
       " 'structured-1522521397-ee5e809d-d851-5d62-95db-b1be1028f58c.png',\n",
       " 'structured-1522521688-5e21988e-45c2-5a7e-aafc-c08bd8a0112c.png',\n",
       " 'structured-1522522099-cfe8a91c-c41a-5d8b-b41e-438ac9b857cc.png',\n",
       " 'structured-1522522772-f0de5e20-5de5-5a30-b411-eac20292ad07.png',\n",
       " 'structured-1522523062-e5ee4ffe-6233-5fce-b228-a51e331b5974.png',\n",
       " 'structured-1522523599-3f48f358-4e03-50ed-ace0-7b48af9fbcf1.png',\n",
       " 'structured-1522523833-9c9120c5-34c9-5888-8aba-91c575bf0b42.png',\n",
       " 'structured-1522524267-658d7913-6957-5d7e-89ba-3f3a0d9d1faa.png',\n",
       " 'structured-1522525069-250a55d4-3c78-5564-8d50-d6e1e5ce0ed6.png',\n",
       " 'structured-1522527063-1140b829-7181-5e59-ab44-0e5093a3fdb8.png',\n",
       " 'structured-1522527266-70ae3dd9-8467-5d26-b770-1f7ed759b4a9.png',\n",
       " 'structured-1522527661-9d554e56-c1e5-5d88-b48a-5c7b771586b3.png',\n",
       " 'structured-1522529791-18001344-f74d-520f-9be8-30a98777ca7a.png',\n",
       " 'structured-1522530407-97c07ab0-f034-5474-a0f1-23cbc972d1b2.png',\n",
       " 'structured-1522530609-c9c6c22d-ef7c-5d4c-8c72-2bed81809737.png',\n",
       " 'structured-1522532952-6873082b-88cd-5540-ae62-39aa21c05e37.png',\n",
       " 'structured-1522533440-eb944283-573b-5197-865b-93472dbc818d.png',\n",
       " 'structured-1522533611-5f98f40e-ee84-561b-82a6-cc7348933714.png',\n",
       " 'structured-1522534970-f6521abc-511d-5dc7-83f7-301569cf51a7.png',\n",
       " 'structured-1522535103-37481994-70da-5003-afa5-05987d20c558.png',\n",
       " 'structured-1522535685-9fe350f8-bf46-5334-9347-c70dbe4a4fa3.png',\n",
       " 'structured-1522577678-dd78d11b-858b-5311-a924-9771413c24f1.png',\n",
       " 'structured-1522577847-b6e451fc-8041-5599-83e1-617ac184caf8.png',\n",
       " 'structured-1522579275-93bcfd36-344f-5a99-b60b-ca7c14695177.png',\n",
       " 'structured-1522579619-b6175930-8386-5cdc-b44a-ff28c3acfc61.png',\n",
       " 'structured-1522580091-50259113-da32-5b3a-be6a-2bb61eaebe1b.png',\n",
       " 'structured-1522580492-643b8e43-b8af-5c8e-8aa4-e79b729bd5dd.png',\n",
       " 'structured-1522582642-13df0611-e413-522b-aff1-f9e6bb8d419c.png',\n",
       " 'structured-1522582745-6011ede8-4ec9-5d36-913f-be1cc782eda9.png',\n",
       " 'structured-1522582937-727047b5-a5b4-58b8-aec0-9a92546c12c4.png',\n",
       " 'structured-1522583416-3bb06f9c-77d3-5467-a558-8258dea09588.png',\n",
       " 'structured-1522583473-73fbc6e4-c516-5d85-960c-31d5ecaef8e6.png',\n",
       " 'structured-1522584208-eca960ed-a3c2-5e12-b819-29e6d13d64c5.png',\n",
       " 'structured-1522584264-f8db1e59-1626-55bf-90f4-10a6ec446be6.png',\n",
       " 'structured-1522585167-84be64ac-9344-5983-a13c-c91ae4fe5e76.png',\n",
       " 'structured-1522585377-ec824403-c843-53ed-8fc8-8fc637d45ab5.png',\n",
       " 'structured-1522585694-c8fe3382-7e75-518d-a375-264b66f91eb9.png',\n",
       " 'structured-1522586310-9b705a61-966c-501d-9748-0ef12b516dfc.png',\n",
       " 'structured-1522588288-9ce8e2ba-c59d-56a5-ab31-ec966b958db7.png',\n",
       " 'structured-1522589247-995b46c4-4ec8-5bc7-b697-7e21a76b6bf1.png',\n",
       " 'structured-1522589410-c7b87a65-e001-570e-8a39-c03549cce7dd.png',\n",
       " 'structured-1522590768-0ac369cd-37c9-5083-84c8-38bfd85ec4df.png',\n",
       " 'structured-1522591939-8834ad77-be3b-5478-835f-cb96e0988f60.png',\n",
       " 'structured-1522592240-dd9159ce-0a62-5338-9e7c-62eb10cd01f5.png',\n",
       " 'structured-1522592315-121ad19e-617a-5695-ac18-d38f5307475c.png',\n",
       " 'structured-1522593074-fcdb4116-ca07-5b6e-ac7e-2a0d7aa3792c.png',\n",
       " 'structured-1522593950-5ae2dd4a-e9c1-51c8-8b23-8408c10991d2.png',\n",
       " 'structured-1522594810-a5fd7671-edcc-5bff-83eb-add3977cc94b.png',\n",
       " 'structured-1522595890-8b552f1c-ed65-5859-bd4c-48e8ae255df0.png',\n",
       " 'structured-1522596361-41e397af-6612-5c96-91fb-3d671efba734.png',\n",
       " 'structured-1522598390-ada51035-394a-5314-a925-4110a0d1ea96.png',\n",
       " 'structured-1522601930-5129e2ea-940a-5dd2-9f76-8eb33af6fea0.png',\n",
       " 'structured-1522608113-6ea84451-44da-52af-8816-268d647ec7cd.png',\n",
       " 'structured-1522610156-f8d71f2d-0528-5f62-8fec-b46bae384198.png',\n",
       " 'structured-1522611837-bd7db5f2-71a3-5663-b7f5-3a322305b81e.png',\n",
       " 'structured-1522612919-37be49dc-0b1d-5e71-b4f7-102bb6dde903.png',\n",
       " 'structured-1522617323-c9387ca0-cec0-5dec-8cd1-dcbb48ed53a1.png',\n",
       " 'structured-1522619073-43ac4d34-98dd-57d0-a116-db6eff67f98c.png',\n",
       " 'upload_cwl_hdfs.ipynb',\n",
       " 'visualizejson.ipynb']"
      ]
     },
     "execution_count": 41,
     "metadata": {},
     "output_type": "execute_result"
    }
   ],
   "source": [
    "client.list('/Users/vagrant/structured-2018-04-01-birmingham/')"
   ]
  },
  {
   "cell_type": "code",
   "execution_count": 42,
   "metadata": {},
   "outputs": [
    {
     "data": {
      "text/plain": [
       "['structured-1515984523-6592b573-b485-58b0-963e-6be0b4d02f6c.png']"
      ]
     },
     "execution_count": 42,
     "metadata": {},
     "output_type": "execute_result"
    }
   ],
   "source": [
    "client.list('/Users/vagrant/structured-2018-01-14-neworleans/')"
   ]
  },
  {
   "cell_type": "code",
   "execution_count": null,
   "metadata": {},
   "outputs": [],
   "source": []
  }
 ],
 "metadata": {
  "kernelspec": {
   "display_name": "Python 3",
   "language": "python",
   "name": "python3"
  },
  "language_info": {
   "codemirror_mode": {
    "name": "ipython",
    "version": 3
   },
   "file_extension": ".py",
   "mimetype": "text/x-python",
   "name": "python",
   "nbconvert_exporter": "python",
   "pygments_lexer": "ipython3",
   "version": "3.7.2"
  }
 },
 "nbformat": 4,
 "nbformat_minor": 2
}
